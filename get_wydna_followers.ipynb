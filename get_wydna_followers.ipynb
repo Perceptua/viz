{
 "cells": [
  {
   "cell_type": "code",
   "execution_count": 1,
   "metadata": {},
   "outputs": [],
   "source": [
    "import twitter, os, csv"
   ]
  },
  {
   "cell_type": "code",
   "execution_count": 9,
   "metadata": {},
   "outputs": [],
   "source": [
    "# limit API calls during testing\n",
    "testing = False\n",
    "request_limit = None\n",
    "\n",
    "if testing:\n",
    "    request_limit=10"
   ]
  },
  {
   "cell_type": "code",
   "execution_count": 10,
   "metadata": {},
   "outputs": [],
   "source": [
    "# load Twitter app credentials from environment variables\n",
    "api_key = os.environ['TWITTER_API']\n",
    "api_secret = os.environ['TWITTER_SECRET']\n",
    "access_token = os.environ['TWITTER_ACCESS_TOKEN']\n",
    "access_secret = os.environ['TWITTER_ACCESS_SECRET']"
   ]
  },
  {
   "cell_type": "code",
   "execution_count": 11,
   "metadata": {},
   "outputs": [],
   "source": [
    "# instantiate Twitter API object\n",
    "api = twitter.Api(\n",
    "    consumer_key=api_key,\n",
    "    consumer_secret=api_secret,\n",
    "    access_token_key=access_token,\n",
    "    access_token_secret=access_secret,\n",
    "    sleep_on_rate_limit=True\n",
    ")"
   ]
  },
  {
   "cell_type": "code",
   "execution_count": 12,
   "metadata": {},
   "outputs": [
    {
     "data": {
      "text/plain": [
       "837"
      ]
     },
     "execution_count": 12,
     "metadata": {},
     "output_type": "execute_result"
    }
   ],
   "source": [
    "# get the wydna.research Twitter account & followers\n",
    "wydna = api.GetUser(screen_name='wydna00')\n",
    "wydna_followers = api.GetFollowerIDs(user_id=wydna.id, total_count=request_limit)\n",
    "\n",
    "len(wydna_followers)"
   ]
  },
  {
   "cell_type": "code",
   "execution_count": 13,
   "metadata": {},
   "outputs": [],
   "source": [
    "# check if a follower of wydna follows any other follower of wydna\n",
    "def find_connections(uid):\n",
    "    connections = []\n",
    "    \n",
    "    followers = api.GetFollowerIDs(user_id=uid, total_count=request_limit)\n",
    "    \n",
    "    for f in followers:\n",
    "        if f in wydna_followers:\n",
    "            connections.append(f)\n",
    "            \n",
    "    return connections"
   ]
  },
  {
   "cell_type": "code",
   "execution_count": null,
   "metadata": {},
   "outputs": [
    {
     "name": "stdout",
     "output_type": "stream",
     "text": [
      "Not authorized.\n",
      "Not authorized.\n",
      "Not authorized.\n",
      "Not authorized.\n",
      "Not authorized.\n",
      "Not authorized.\n",
      "Not authorized.\n",
      "Not authorized.\n",
      "Not authorized.\n",
      "Not authorized.\n",
      "Not authorized.\n",
      "Not authorized.\n",
      "Not authorized.\n",
      "Not authorized.\n",
      "Not authorized.\n",
      "Not authorized.\n",
      "Not authorized.\n",
      "Not authorized.\n",
      "Not authorized.\n",
      "Not authorized.\n",
      "Not authorized.\n",
      "Not authorized.\n",
      "Not authorized.\n",
      "Not authorized.\n",
      "Not authorized.\n",
      "Not authorized.\n",
      "Not authorized.\n",
      "Not authorized.\n",
      "Not authorized.\n",
      "Not authorized.\n",
      "Not authorized.\n",
      "Not authorized.\n",
      "Not authorized.\n",
      "Not authorized.\n",
      "Not authorized.\n"
     ]
    }
   ],
   "source": [
    "# search connections between wydna followers\n",
    "connections = []\n",
    "errors = []\n",
    "\n",
    "for w in range(len(wydna_followers)):\n",
    "    try:\n",
    "        connections.append({\n",
    "            'pk': w, \n",
    "            'uid': wydna_followers[w], \n",
    "            'connections': find_connections(wydna_followers[w]),\n",
    "        })\n",
    "    except Exception as e:\n",
    "        # exceptions occur when user account is private\n",
    "        print(e)\n",
    "        errors.append(w)\n",
    "        \n",
    "len(connections), len(errors)"
   ]
  },
  {
   "cell_type": "code",
   "execution_count": null,
   "metadata": {},
   "outputs": [],
   "source": [
    "# write results to csv file\n",
    "with open('connections.csv', 'w', newline='\\n') as f:\n",
    "    writer = csv.DictWriter(f, fieldnames=['pk', 'uid', 'connections'])\n",
    "    writer.writeheader()\n",
    "    for c in connections:\n",
    "        writer.writerow(c)"
   ]
  },
  {
   "cell_type": "code",
   "execution_count": null,
   "metadata": {},
   "outputs": [],
   "source": [
    "# TODO: complete & write out connections in batches to avoid waits due to API rate limit\n",
    "\n",
    "connections = []\n",
    "completed = []\n",
    "errors = []\n",
    "\n",
    "def get_batch_connections():\n",
    "    api.InitializeRateLimit()\n",
    "    print(api.rate_limit)\n",
    "    \n",
    "    '''\n",
    "    for w in range(len(wydna_followers)):\n",
    "        try:\n",
    "            connections.append({\n",
    "                'pk': w, \n",
    "                'uid': wydna_followers[w], \n",
    "                'connections': find_connections(wydna_followers[w]),\n",
    "            })\n",
    "        except Exception as e:\n",
    "            # exceptions occur when user account is private\n",
    "            print(e)\n",
    "            errors.append(w)\n",
    "    '''\n",
    "    \n",
    "def write_out(connections):\n",
    "    with open('connections.csv', 'a', newline='\\n') as f:\n",
    "        writer = csv.DictWriter(f, fieldnames=['pk', 'uid', 'connections'])\n",
    "        writer.writeheader()\n",
    "        for c in connections:\n",
    "            writer.writerow(c)"
   ]
  }
 ],
 "metadata": {
  "kernelspec": {
   "display_name": "Python 3",
   "language": "python",
   "name": "python3"
  },
  "language_info": {
   "codemirror_mode": {
    "name": "ipython",
    "version": 3
   },
   "file_extension": ".py",
   "mimetype": "text/x-python",
   "name": "python",
   "nbconvert_exporter": "python",
   "pygments_lexer": "ipython3",
   "version": "3.7.3"
  }
 },
 "nbformat": 4,
 "nbformat_minor": 4
}
